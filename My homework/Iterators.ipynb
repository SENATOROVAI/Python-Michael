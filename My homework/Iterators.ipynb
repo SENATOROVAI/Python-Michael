{
 "cells": [
  {
   "cell_type": "code",
   "execution_count": 1,
   "metadata": {},
   "outputs": [
    {
     "name": "stdout",
     "output_type": "stream",
     "text": [
      "[1, 4, 9, 16, 25]\n",
      "<generator object <genexpr> at 0x000001FC20AC5080>\n"
     ]
    }
   ],
   "source": [
    "# Генератор списка\n",
    "a = [i**2 for i in range(1, 6)]\n",
    "print(a)\n",
    "# Выражения генераторы. Генератор-итератор - элементы можно обойти 1 раз. Итератор - лбъект, поддерживающий ф-цию next\n",
    "# Помнит какой эллемент будет следующим\n",
    "# Итерируемый объект это объект, который предоставляет возможность обойти поочередно свои элементы\n",
    "b = (i**2 for i in range(1, 6))\n",
    "print(b)\n",
    "# Элементы генератора итератора не хранятся в памяти, поэтому обходя повторно элементы списка выражения-генератора(), будет пусто"
   ]
  },
  {
   "cell_type": "code",
   "execution_count": null,
   "metadata": {},
   "outputs": [],
   "source": []
  }
 ],
 "metadata": {
  "kernelspec": {
   "display_name": "venv",
   "language": "python",
   "name": "python3"
  },
  "language_info": {
   "codemirror_mode": {
    "name": "ipython",
    "version": 3
   },
   "file_extension": ".py",
   "mimetype": "text/x-python",
   "name": "python",
   "nbconvert_exporter": "python",
   "pygments_lexer": "ipython3",
   "version": "3.11.3"
  }
 },
 "nbformat": 4,
 "nbformat_minor": 2
}
