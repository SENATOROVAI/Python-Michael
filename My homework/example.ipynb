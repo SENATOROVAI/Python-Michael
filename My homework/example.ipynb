{
 "cells": [
  {
   "cell_type": "code",
   "execution_count": null,
   "metadata": {},
   "outputs": [],
   "source": [
    "n: int = int(input())\n",
    "n1: int = 1\n",
    "n2: int = 1\n",
    "sum_: int = n1 + n2"
   ]
  },
  {
   "cell_type": "code",
   "execution_count": 24,
   "metadata": {},
   "outputs": [
    {
     "name": "stdout",
     "output_type": "stream",
     "text": [
      "55\n"
     ]
    },
    {
     "data": {
      "text/plain": [
       "0.0"
      ]
     },
     "execution_count": 24,
     "metadata": {},
     "output_type": "execute_result"
    }
   ],
   "source": [
    "from functools import cache     # используется интер. CPython, использовать pypy для усоркения кода \n",
    "import time\n",
    "begin = time.time()\n",
    "@cache                  \n",
    "def fib(n: int) -> int:\n",
    "    if n == 1 or n == 2:\n",
    "        return 1\n",
    "    return fib(n - 1) + fib(n - 2)\n",
    "print(fib(10))\n",
    "end = time.time()\n",
    "summ_ = end - begin\n",
    "summ_"
   ]
  },
  {
   "cell_type": "code",
   "execution_count": 25,
   "metadata": {},
   "outputs": [],
   "source": [
    "fib = lambda n: fib(n-1) + fib(n-2) if n > 2 else 1"
   ]
  },
  {
   "cell_type": "code",
   "execution_count": 29,
   "metadata": {},
   "outputs": [
    {
     "data": {
      "text/plain": [
       "55"
      ]
     },
     "execution_count": 29,
     "metadata": {},
     "output_type": "execute_result"
    }
   ],
   "source": [
    "fib(10)"
   ]
  },
  {
   "cell_type": "code",
   "execution_count": 38,
   "metadata": {},
   "outputs": [
    {
     "data": {
      "text/plain": [
       "55"
      ]
     },
     "execution_count": 38,
     "metadata": {},
     "output_type": "execute_result"
    }
   ],
   "source": [
    "# проблема решения пересекающихся вычислений\n",
    "mas = {0: 0, 1: 1}\n",
    "\n",
    "\n",
    "def fib_(n):\n",
    "    if n in mas:\n",
    "        return mas[n]\n",
    "    mas[n] = fib_(n - 1) + fib_(n - 2)\n",
    "    return mas[n]\n",
    "\n",
    "\n",
    "fib_(10) # timecopexity o(n) space - o(n)"
   ]
  },
  {
   "cell_type": "code",
   "execution_count": 6,
   "metadata": {},
   "outputs": [
    {
     "name": "stdout",
     "output_type": "stream",
     "text": [
      "  2           0 RESUME                   0\n",
      "\n",
      "  3           2 LOAD_CONST               1 (0)\n",
      "              4 STORE_FAST               1 (a)\n",
      "\n",
      "  4           6 LOAD_CONST               2 (1)\n",
      "              8 STORE_FAST               2 (b)\n",
      "\n",
      "  5          10 LOAD_GLOBAL              1 (NULL + range)\n",
      "             22 LOAD_FAST                0 (n)\n",
      "             24 PRECALL                  1\n",
      "             28 CALL                     1\n",
      "             38 GET_ITER\n",
      "        >>   40 FOR_ITER                 9 (to 60)\n",
      "             42 STORE_FAST               3 (_)\n",
      "\n",
      "  6          44 LOAD_FAST                2 (b)\n",
      "             46 LOAD_FAST                1 (a)\n",
      "             48 LOAD_FAST                2 (b)\n",
      "             50 BINARY_OP                0 (+)\n",
      "             54 STORE_FAST               2 (b)\n",
      "             56 STORE_FAST               1 (a)\n",
      "             58 JUMP_BACKWARD           10 (to 40)\n",
      "\n",
      "  7     >>   60 LOAD_FAST                1 (a)\n",
      "             62 RETURN_VALUE\n"
     ]
    }
   ],
   "source": [
    "import dis\n",
    "def fib_din(n):\n",
    "    a = 0\n",
    "    b = 1\n",
    "    for _ in range(n):\n",
    "        a,b = b,a+b\n",
    "    return a\n",
    "fib_din(10)\n",
    "dis.dis(fib_din)"
   ]
  },
  {
   "cell_type": "code",
   "execution_count": 10,
   "metadata": {},
   "outputs": [
    {
     "name": "stdout",
     "output_type": "stream",
     "text": [
      "[<function inner at 0x000002C5D5F17920>, <function inner at 0x000002C5D5F17380>]\n",
      "2\n",
      "25\n",
      "2\n",
      "25\n"
     ]
    }
   ],
   "source": [
    "list_ = []\n",
    "for i in (1,2):\n",
    "    def inner(x):\n",
    "        print(i)\n",
    "        return x**i\n",
    "    list_.append(inner)\n",
    "print(list_)\n",
    "for j in list_:\n",
    "    print(j(5)) # late binding\n",
    "    "
   ]
  },
  {
   "cell_type": "code",
   "execution_count": 14,
   "metadata": {},
   "outputs": [
    {
     "name": "stdout",
     "output_type": "stream",
     "text": [
      "[<function outer.<locals>.inner at 0x000002C5D5F62B60>, <function outer.<locals>.inner at 0x000002C5D5F90220>]\n",
      "5\n",
      "25\n"
     ]
    }
   ],
   "source": [
    "list_ = []\n",
    "for i in (1,2):\n",
    "    def outer(k):\n",
    "        def inner(x):\n",
    "            return x**k\n",
    "        return inner\n",
    "    list_.append(outer(i))\n",
    "print(list_)\n",
    "for j in list_:\n",
    "    print(j(5)) # late binding - решение с помощью обертки"
   ]
  },
  {
   "cell_type": "code",
   "execution_count": 43,
   "metadata": {},
   "outputs": [
    {
     "data": {
      "text/plain": [
       "'5*4*3*2*1*Test'"
      ]
     },
     "execution_count": 43,
     "metadata": {},
     "output_type": "execute_result"
    }
   ],
   "source": [
    "def factorial(n):\n",
    "    if n == 0:\n",
    "        return \"Test\"\n",
    "    return f'{n}*{factorial(n-1)}'\n",
    "n = 5\n",
    "factorial(5)"
   ]
  },
  {
   "cell_type": "code",
   "execution_count": 4,
   "metadata": {},
   "outputs": [],
   "source": [
    "a = 2\n",
    "b = a\n",
    "del a\n",
    "del b # Гарбедж коллектор"
   ]
  },
  {
   "cell_type": "code",
   "execution_count": 5,
   "metadata": {},
   "outputs": [
    {
     "ename": "NameError",
     "evalue": "name 'b' is not defined",
     "output_type": "error",
     "traceback": [
      "\u001b[1;31m---------------------------------------------------------------------------\u001b[0m",
      "\u001b[1;31mNameError\u001b[0m                                 Traceback (most recent call last)",
      "Cell \u001b[1;32mIn[5], line 1\u001b[0m\n\u001b[1;32m----> 1\u001b[0m \u001b[38;5;28mprint\u001b[39m(\u001b[43mb\u001b[49m)\n",
      "\u001b[1;31mNameError\u001b[0m: name 'b' is not defined"
     ]
    }
   ],
   "source": [
    "print(b)"
   ]
  },
  {
   "cell_type": "code",
   "execution_count": null,
   "metadata": {},
   "outputs": [],
   "source": []
  }
 ],
 "metadata": {
  "kernelspec": {
   "display_name": "venv",
   "language": "python",
   "name": "python3"
  },
  "language_info": {
   "codemirror_mode": {
    "name": "ipython",
    "version": 3
   },
   "file_extension": ".py",
   "mimetype": "text/x-python",
   "name": "python",
   "nbconvert_exporter": "python",
   "pygments_lexer": "ipython3",
   "version": "3.11.3"
  }
 },
 "nbformat": 4,
 "nbformat_minor": 2
}
