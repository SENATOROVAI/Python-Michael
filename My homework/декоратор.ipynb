{
 "cells": [
  {
   "cell_type": "code",
   "execution_count": 25,
   "metadata": {},
   "outputs": [
    {
     "name": "stdout",
     "output_type": "stream",
     "text": [
      "<h1>\n",
      "Hello Misha Bigtoy 22\n",
      "</h1>\n"
     ]
    }
   ],
   "source": [
    "# декоратор - функция, которая принимает другую функцию и возвращает функцию\n",
    "def header(func):\n",
    "\n",
    "    def inner(*args, **kwargs):\n",
    "        print(\"<h1>\")\n",
    "        func(*args, **kwargs)\n",
    "        print(\"</h1>\")\n",
    "\n",
    "    return inner\n",
    "\n",
    "\n",
    "def table(func):\n",
    "\n",
    "    def inner(*args, **kwargs):\n",
    "        print(\"<table>\")\n",
    "        func(*args, **kwargs)\n",
    "        print(\"</table>\")\n",
    "\n",
    "    return inner\n",
    "\n",
    "\n",
    "@header  # Делает say = header(say)\n",
    "def say(name, surname, age):\n",
    "    print(\"Hello\", name, surname, age)\n",
    "\n",
    "\n",
    "# 1) say = table(header(say)) # Так не декарируют, декарируют через @, пример выше\n",
    "say(\"Misha\", \"Bigtoy\", 22)"
   ]
  },
  {
   "cell_type": "code",
   "execution_count": 24,
   "metadata": {},
   "outputs": [
    {
     "name": "stdout",
     "output_type": "stream",
     "text": [
      "<h1>\n",
      "Hello f d 2\n",
      "</h1>\n"
     ]
    }
   ],
   "source": [
    "def header(func):\n",
    "\n",
    "    def inner(*args, **kwargs):\n",
    "        print(\"<h1>\")\n",
    "        func(*args, **kwargs)\n",
    "        print(\"</h1>\")\n",
    "\n",
    "    return inner\n",
    "\n",
    "\n",
    "def say(name, surname, age):\n",
    "    print(\"Hello\", name, surname, age)\n",
    "\n",
    "\n",
    "h = header(say)  # по сути и есть декоратор, записанный , через @\n",
    "h(\"f\", \"d\", 2)"
   ]
  }
 ],
 "metadata": {
  "kernelspec": {
   "display_name": "Python 3",
   "language": "python",
   "name": "python3"
  },
  "language_info": {
   "codemirror_mode": {
    "name": "ipython",
    "version": 3
   },
   "file_extension": ".py",
   "mimetype": "text/x-python",
   "name": "python",
   "nbconvert_exporter": "python",
   "pygments_lexer": "ipython3",
   "version": "3.11.3"
  }
 },
 "nbformat": 4,
 "nbformat_minor": 2
}
