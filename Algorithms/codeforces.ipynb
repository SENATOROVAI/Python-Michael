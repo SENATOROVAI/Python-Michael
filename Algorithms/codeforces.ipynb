{
 "cells": [
  {
   "cell_type": "code",
   "execution_count": 10,
   "metadata": {},
   "outputs": [
    {
     "ename": "ValueError",
     "evalue": "invalid literal for int() with base 10: '4 190'",
     "output_type": "error",
     "traceback": [
      "\u001b[1;31m---------------------------------------------------------------------------\u001b[0m",
      "\u001b[1;31mValueError\u001b[0m                                Traceback (most recent call last)",
      "Cell \u001b[1;32mIn[10], line 2\u001b[0m\n\u001b[0;32m      1\u001b[0m \u001b[38;5;66;03m# https://codeforces.com/problemset/problem/4/A\u001b[39;00m\n\u001b[1;32m----> 2\u001b[0m w \u001b[38;5;241m=\u001b[39m \u001b[38;5;28;43mint\u001b[39;49m\u001b[43m(\u001b[49m\u001b[38;5;28;43minput\u001b[39;49m\u001b[43m(\u001b[49m\u001b[43m)\u001b[49m\u001b[43m)\u001b[49m\n\u001b[0;32m      3\u001b[0m \u001b[38;5;28;01mif\u001b[39;00m w \u001b[38;5;241m%\u001b[39m \u001b[38;5;241m2\u001b[39m \u001b[38;5;241m==\u001b[39m \u001b[38;5;241m0\u001b[39m \u001b[38;5;129;01mand\u001b[39;00m w \u001b[38;5;241m>\u001b[39m \u001b[38;5;241m2\u001b[39m:\n\u001b[0;32m      4\u001b[0m     \u001b[38;5;28mprint\u001b[39m(\u001b[38;5;124m'\u001b[39m\u001b[38;5;124mYes\u001b[39m\u001b[38;5;124m'\u001b[39m)\n",
      "\u001b[1;31mValueError\u001b[0m: invalid literal for int() with base 10: '4 190'"
     ]
    }
   ],
   "source": [
    "# https://codeforces.com/problemset/problem/4/A\n",
    "w = int(input())\n",
    "if w % 2 == 0 and w > 2:\n",
    "    print('Yes')\n",
    "else:\n",
    "    print('NO')\n",
    "\n",
    "# файл лога не забудь с планом урока.\n",
    "    \n",
    "# print('YNEOS'[5%~int(input())%2::2])"
   ]
  },
  {
   "cell_type": "code",
   "execution_count": null,
   "metadata": {},
   "outputs": [
    {
     "name": "stdout",
     "output_type": "stream",
     "text": [
      "11.0\n"
     ]
    }
   ],
   "source": [
    "# https://codeforces.com/problemset/problem/200/B\n",
    "a = int(input())\n",
    "b = sum(map(int,input().split()))\n",
    "print(b/a)\n",
    "# 1) print(1/int(input())*sum(map(int,input().split())))\n",
    "# 2) n = int(input())\n",
    "# drinks = list(map(int,input().split()))\n",
    "# def volumefraction(n, drinks):\n",
    "#     sum = 0\n",
    "#     for i in drinks:\n",
    "#         sum += i\n",
    "#     print(sum / n)\n",
    "# volumefraction(n, drinks)"
   ]
  },
  {
   "cell_type": "code",
   "execution_count": null,
   "metadata": {},
   "outputs": [
    {
     "name": "stdout",
     "output_type": "stream",
     "text": [
      "1\n"
     ]
    }
   ],
   "source": [
    "# https://codeforces.com/problemset/problem/148/A\n",
    "k = int(input())\n",
    "l = int(input())\n",
    "m = int(input())\n",
    "n = int(input())\n",
    "d = int(input())\n",
    "t = 0  # счетчик\n",
    "for i in range(1,d+1):\n",
    "    if i % k == 0:\n",
    "        t += 1\n",
    "    elif i % l == 0:\n",
    "        t += 1\n",
    "    elif i % m == 0:\n",
    "        t += 1\n",
    "    elif i % n == 0:\n",
    "        t += 1\n",
    "print(t)\n",
    "# 1)\n",
    "# k = int(input())\n",
    "# l = int(input())\n",
    "# m = int(input())\n",
    "# n = int(input())\n",
    "# d = int(input())\n",
    "# otv = [0]*d\n",
    "# for i in range(k-1, d, k):\n",
    "#     otv[i] = 1\n",
    "# for i in range(l-1, d, l):\n",
    "#     otv[i] = 1\n",
    "# for i in range(m-1, d, m):\n",
    "#     otv[i] = 1\n",
    "# for i in range(n-1, d, n):\n",
    "#     otv[i] = 1\n",
    "         \n",
    " \n",
    "# print(sum(otv))\n",
    "# 2) *a,d=map(int,open(0))\n",
    "#     print(sum(any(i%j==0 for j in a)for i in range(1,d+1)))"
   ]
  },
  {
   "cell_type": "code",
   "execution_count": null,
   "metadata": {},
   "outputs": [
    {
     "name": "stdout",
     "output_type": "stream",
     "text": [
      "3\n",
      "0\n",
      "0\n",
      "0\n"
     ]
    },
    {
     "ename": "KeyboardInterrupt",
     "evalue": "Interrupted by user",
     "output_type": "error",
     "traceback": [
      "\u001b[1;31m---------------------------------------------------------------------------\u001b[0m",
      "\u001b[1;31mKeyboardInterrupt\u001b[0m                         Traceback (most recent call last)",
      "Cell \u001b[1;32mIn[5], line 4\u001b[0m\n\u001b[0;32m      1\u001b[0m \u001b[38;5;66;03m# https://codeforces.com/problemset/problem/1328/A\u001b[39;00m\n\u001b[0;32m      3\u001b[0m \u001b[38;5;28;01mfor\u001b[39;00m i \u001b[38;5;129;01min\u001b[39;00m \u001b[38;5;28mrange\u001b[39m(\u001b[38;5;28mint\u001b[39m(\u001b[38;5;28minput\u001b[39m())):\n\u001b[1;32m----> 4\u001b[0m     n ,k \u001b[38;5;241m=\u001b[39m \u001b[38;5;28mmap\u001b[39m(\u001b[38;5;28mint\u001b[39m,\u001b[38;5;28;43minput\u001b[39;49m\u001b[43m(\u001b[49m\u001b[43m)\u001b[49m\u001b[38;5;241m.\u001b[39msplit())\n\u001b[0;32m      5\u001b[0m     \u001b[38;5;28;01mif\u001b[39;00m n \u001b[38;5;241m%\u001b[39m k \u001b[38;5;241m==\u001b[39m \u001b[38;5;241m0\u001b[39m:\n\u001b[0;32m      6\u001b[0m         \u001b[38;5;28mprint\u001b[39m(\u001b[38;5;241m0\u001b[39m)\n",
      "File \u001b[1;32m~\\AppData\\Roaming\\Python\\Python311\\site-packages\\ipykernel\\kernelbase.py:1261\u001b[0m, in \u001b[0;36mKernel.raw_input\u001b[1;34m(self, prompt)\u001b[0m\n\u001b[0;32m   1259\u001b[0m     msg \u001b[38;5;241m=\u001b[39m \u001b[38;5;124m\"\u001b[39m\u001b[38;5;124mraw_input was called, but this frontend does not support input requests.\u001b[39m\u001b[38;5;124m\"\u001b[39m\n\u001b[0;32m   1260\u001b[0m     \u001b[38;5;28;01mraise\u001b[39;00m StdinNotImplementedError(msg)\n\u001b[1;32m-> 1261\u001b[0m \u001b[38;5;28;01mreturn\u001b[39;00m \u001b[38;5;28;43mself\u001b[39;49m\u001b[38;5;241;43m.\u001b[39;49m\u001b[43m_input_request\u001b[49m\u001b[43m(\u001b[49m\n\u001b[0;32m   1262\u001b[0m \u001b[43m    \u001b[49m\u001b[38;5;28;43mstr\u001b[39;49m\u001b[43m(\u001b[49m\u001b[43mprompt\u001b[49m\u001b[43m)\u001b[49m\u001b[43m,\u001b[49m\n\u001b[0;32m   1263\u001b[0m \u001b[43m    \u001b[49m\u001b[38;5;28;43mself\u001b[39;49m\u001b[38;5;241;43m.\u001b[39;49m\u001b[43m_parent_ident\u001b[49m\u001b[43m[\u001b[49m\u001b[38;5;124;43m\"\u001b[39;49m\u001b[38;5;124;43mshell\u001b[39;49m\u001b[38;5;124;43m\"\u001b[39;49m\u001b[43m]\u001b[49m\u001b[43m,\u001b[49m\n\u001b[0;32m   1264\u001b[0m \u001b[43m    \u001b[49m\u001b[38;5;28;43mself\u001b[39;49m\u001b[38;5;241;43m.\u001b[39;49m\u001b[43mget_parent\u001b[49m\u001b[43m(\u001b[49m\u001b[38;5;124;43m\"\u001b[39;49m\u001b[38;5;124;43mshell\u001b[39;49m\u001b[38;5;124;43m\"\u001b[39;49m\u001b[43m)\u001b[49m\u001b[43m,\u001b[49m\n\u001b[0;32m   1265\u001b[0m \u001b[43m    \u001b[49m\u001b[43mpassword\u001b[49m\u001b[38;5;241;43m=\u001b[39;49m\u001b[38;5;28;43;01mFalse\u001b[39;49;00m\u001b[43m,\u001b[49m\n\u001b[0;32m   1266\u001b[0m \u001b[43m\u001b[49m\u001b[43m)\u001b[49m\n",
      "File \u001b[1;32m~\\AppData\\Roaming\\Python\\Python311\\site-packages\\ipykernel\\kernelbase.py:1304\u001b[0m, in \u001b[0;36mKernel._input_request\u001b[1;34m(self, prompt, ident, parent, password)\u001b[0m\n\u001b[0;32m   1301\u001b[0m \u001b[38;5;28;01mexcept\u001b[39;00m \u001b[38;5;167;01mKeyboardInterrupt\u001b[39;00m:\n\u001b[0;32m   1302\u001b[0m     \u001b[38;5;66;03m# re-raise KeyboardInterrupt, to truncate traceback\u001b[39;00m\n\u001b[0;32m   1303\u001b[0m     msg \u001b[38;5;241m=\u001b[39m \u001b[38;5;124m\"\u001b[39m\u001b[38;5;124mInterrupted by user\u001b[39m\u001b[38;5;124m\"\u001b[39m\n\u001b[1;32m-> 1304\u001b[0m     \u001b[38;5;28;01mraise\u001b[39;00m \u001b[38;5;167;01mKeyboardInterrupt\u001b[39;00m(msg) \u001b[38;5;28;01mfrom\u001b[39;00m \u001b[38;5;28;01mNone\u001b[39;00m\n\u001b[0;32m   1305\u001b[0m \u001b[38;5;28;01mexcept\u001b[39;00m \u001b[38;5;167;01mException\u001b[39;00m:\n\u001b[0;32m   1306\u001b[0m     \u001b[38;5;28mself\u001b[39m\u001b[38;5;241m.\u001b[39mlog\u001b[38;5;241m.\u001b[39mwarning(\u001b[38;5;124m\"\u001b[39m\u001b[38;5;124mInvalid Message:\u001b[39m\u001b[38;5;124m\"\u001b[39m, exc_info\u001b[38;5;241m=\u001b[39m\u001b[38;5;28;01mTrue\u001b[39;00m)\n",
      "\u001b[1;31mKeyboardInterrupt\u001b[0m: Interrupted by user"
     ]
    }
   ],
   "source": [
    "# https://codeforces.com/problemset/problem/1328/A\n",
    "\n",
    "for i in range(int(input())):\n",
    "    n ,k = map(int,input().split())\n",
    "    if n % k == 0:\n",
    "        print(0)\n",
    "    else:\n",
    "        print(k-(n%k))\n",
    "# 1) def divisibility_problem():\n",
    "#     t = int(input())\n",
    "#     for i in range(t):\n",
    "#         a, b = map(int, input().split(' '))\n",
    "#         if a % b:  # same as if a % b != 0:\n",
    "#             print(b - (a % b))\n",
    "#         else:\n",
    "#             print(0)\n",
    " \n",
    "# if __name__ == '__main__':\n",
    "#     divisibility_problem()\n",
    "# 2)n = int(input())\n",
    "# l = []\n",
    "# for i in range(n):\n",
    "#     a, b = map(int, input().split())\n",
    "#     l.append( [a,b] )\n",
    " \n",
    "# for i in l:\n",
    "#     print((i[1]-i[0]%i[1])%i[1])"
   ]
  },
  {
   "cell_type": "code",
   "execution_count": null,
   "metadata": {},
   "outputs": [
    {
     "name": "stdout",
     "output_type": "stream",
     "text": [
      "3\n",
      "0\n",
      "0\n",
      "1\n",
      "999999\n",
      "381621773\n"
     ]
    }
   ],
   "source": [
    "# https://codeforces.com/problemset/problem/1335/A\n",
    "for i in range(int(input())):\n",
    "    print((int(input())+1)//2-1)\n",
    "# 1) for _ in range(int(input())):print((int(input())-1)//2)\n",
    "# 2) for n in[*open(0)][1:]:print(int(n)-1>>1)"
   ]
  },
  {
   "cell_type": "code",
   "execution_count": null,
   "metadata": {},
   "outputs": [],
   "source": [
    "# https://codeforces.com/problemset/problem/1352/A\n",
    "for i in range(int(input())):\n",
    "    a = input()\n",
    "    l = []\n",
    "    for i in range(len(a)):\n",
    "        if a[i] != \"0\":\n",
    "            l.append(a[i]+(\"0\"*(len(a)-i-1)))\n",
    "    print(len(l))\n",
    "    print(\" \".join(l))\n",
    "    "
   ]
  },
  {
   "cell_type": "code",
   "execution_count": 11,
   "metadata": {},
   "outputs": [
    {
     "name": "stdout",
     "output_type": "stream",
     "text": [
      "3\n"
     ]
    }
   ],
   "source": [
    "# https://codeforces.com/problemset/problem/750/A\n",
    "starter = 1200\n",
    "stoper = 1440\n",
    "t1 = 1\n",
    "t = 0  # счетчик задач\n",
    "n, k = map(int, input().split())\n",
    "outer = stoper - starter - k\n",
    "while outer > 0 and t <= n:\n",
    "    outer = outer - 5 * t1\n",
    "    if outer < 0:\n",
    "        break\n",
    "    else:\n",
    "        t += 1\n",
    "        t1 += 1\n",
    "if t > n:\n",
    "    print(n)\n",
    "else:\n",
    "    print(t)\n",
    "# 1) n,k=map(int,input().split())\n",
    "# while n*(n+1)//2*5>240-k:n-=1\n",
    "# print(n)\n",
    " \n",
    "# 2) def solve_problems(n, k):\n",
    "#     total_time = 240 - k  # Total time available to solve problems\n",
    " \n",
    "#     problems_solved = 0\n",
    "#     time_needed = 0\n",
    " \n",
    "#     for i in range(1, n + 1):\n",
    "#         time_needed += 5 * i  # Time needed to solve the i-th problem\n",
    " \n",
    "#         # Check if Limak has enough time to solve the current problem\n",
    "#         if time_needed <= total_time:\n",
    "#             problems_solved += 1\n",
    "#         else:\n",
    "#             break\n",
    " \n",
    "#     return problems_solved\n",
    " \n",
    "# # Read input\n",
    "# n, k = map(int, input().split())\n",
    " \n",
    "# # Print the result\n",
    "# print(solve_problems(n, k))   "
   ]
  },
  {
   "cell_type": "code",
   "execution_count": 2,
   "metadata": {},
   "outputs": [
    {
     "name": "stdout",
     "output_type": "stream",
     "text": [
      "6\n"
     ]
    }
   ],
   "source": [
    "# https://codeforces.com/problemset/problem/723/A\n",
    "a = list(map(int, input().split()))\n",
    "a.sort()\n",
    "c1 = a[2] - a[1]\n",
    "c2 = a[1] - a[0]\n",
    "c = c1 + c2\n",
    "print(c)\n",
    "# 1) *a,=map(int,input().split());print(max(a)-min(a))\n",
    "# 2) def main():\n",
    "#     from sys import stdin, stdout\n",
    " \n",
    "#     a, b, c = stdin.readline().split()\n",
    "#     a = int(a)\n",
    "#     b = int(b)\n",
    "#     c = int(c)\n",
    "#     d = new_friend(a,b,c)\n",
    " \n",
    "#     stdout.write(str(d))\n",
    " \n",
    "# def new_friend(a,b,c):\n",
    "#     if (a > b and b > c) or (c > b and b > a):\n",
    "#         return abs(a - c)\n",
    "#     elif (a > c and a > b) or (a < c and a < b):\n",
    "#         return abs(a - b)\n",
    "#     else:\n",
    "#         return abs(b - c)\n",
    " \n",
    "# if __name__ == \"__main__\":\n",
    "#     main()"
   ]
  },
  {
   "cell_type": "code",
   "execution_count": 4,
   "metadata": {},
   "outputs": [
    {
     "name": "stdout",
     "output_type": "stream",
     "text": [
      "2 0\n"
     ]
    }
   ],
   "source": [
    "# https://codeforces.com/problemset/problem/581/A\n",
    "a, b = map(int, input().split())\n",
    "day_with_dif = 0\n",
    "day_not_dif = 0\n",
    "while a + b > 1:\n",
    "    if a != 0 and b != 0:\n",
    "        a -= 1\n",
    "        b -= 1\n",
    "        day_with_dif += 1\n",
    "    elif a == 0:\n",
    "        b -= 2\n",
    "        day_not_dif += 1\n",
    "    elif b == 0:\n",
    "        a -= 2\n",
    "        day_not_dif += 1\n",
    "print(day_with_dif, day_not_dif)\n",
    "# 1) a,b=sorted(map(int,input().split()));print(a,(b-a)//2)\n",
    "# 2) a,b=map(int,input().split())\n",
    "# k=0\n",
    "# s=0\n",
    "# if a>b:\n",
    "#     k=b\n",
    "#     s=(a-b)//2\n",
    "# else:\n",
    "#     k=a\n",
    "#     s=(b-a)//2\n",
    "# print(k, s)"
   ]
  },
  {
   "cell_type": "code",
   "execution_count": 23,
   "metadata": {},
   "outputs": [
    {
     "name": "stdout",
     "output_type": "stream",
     "text": [
      "9\n"
     ]
    }
   ],
   "source": [
    "# https://codeforces.com/problemset/problem/732/A\n",
    "price, nom = map(int, input().split())\n",
    "t = 1\n",
    "s = 0 # счетчик\n",
    "a = price\n",
    "while price % 10 != 0 and price % 10 != nom:\n",
    "     price = a\n",
    "     price = price * t\n",
    "     t += 1\n",
    "     s += 1  \n",
    "if s > 1: \n",
    "    print(s)\n",
    "else:\n",
    "    print(1)\n",
    "# 1) k,r=map(int,input().split());i=1\n",
    "# while 0!=i*k%10!=r:i+=1\n",
    "# print(i)\n",
    "# 2) k = input().split()\n",
    "# k[0],k[1]=int(k[0]),int(k[1])\n",
    "# var1 = k[0]\n",
    "# count = 0\n",
    "# if k[0]%10==0:\n",
    "#     print(1)\n",
    "# elif k[0]%10==k[1]:\n",
    "#     print(1)\n",
    "# else:\n",
    "#     while True:\n",
    "#         count +=1\n",
    "#         if (k[0]*count)%10==0:\n",
    "#             print(count)\n",
    "#             break\n",
    "#         elif (k[0]*count)%10 ==k[1]:\n",
    "#             print(count)\n",
    "#             break"
   ]
  }
 ],
 "metadata": {
  "kernelspec": {
   "display_name": "cond_venv",
   "language": "python",
   "name": "python3"
  },
  "language_info": {
   "codemirror_mode": {
    "name": "ipython",
    "version": 3
   },
   "file_extension": ".py",
   "mimetype": "text/x-python",
   "name": "python",
   "nbconvert_exporter": "python",
   "pygments_lexer": "ipython3",
   "version": "3.11.3"
  }
 },
 "nbformat": 4,
 "nbformat_minor": 2
}
