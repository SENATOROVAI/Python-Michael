{
 "cells": [
  {
   "cell_type": "code",
   "execution_count": 1,
   "metadata": {},
   "outputs": [
    {
     "name": "stdout",
     "output_type": "stream",
     "text": [
      "NO\n",
      "NO\n"
     ]
    }
   ],
   "source": [
    "# https://codeforces.com/problemset/problem/4/A\n",
    "w = int(input())\n",
    "if w % 2 == 0 and w > 2:\n",
    "    print('Yes')\n",
    "else:\n",
    "    print('NO')\n",
    "\n",
    "# файл лога не забудь с планом урока.\n",
    "    \n",
    "# print('YNEOS'[5%~int(input())%2::2])"
   ]
  },
  {
   "cell_type": "code",
   "execution_count": 21,
   "metadata": {},
   "outputs": [
    {
     "name": "stdout",
     "output_type": "stream",
     "text": [
      "11.0\n"
     ]
    }
   ],
   "source": [
    "# https://codeforces.com/problemset/problem/200/B\n",
    "a = int(input())\n",
    "b = sum(map(int,input().split()))\n",
    "print(b/a)\n",
    "# 1) print(1/int(input())*sum(map(int,input().split())))\n",
    "# 2) n = int(input())\n",
    "# drinks = list(map(int,input().split()))\n",
    "# def volumefraction(n, drinks):\n",
    "#     sum = 0\n",
    "#     for i in drinks:\n",
    "#         sum += i\n",
    "#     print(sum / n)\n",
    "# volumefraction(n, drinks)"
   ]
  },
  {
   "cell_type": "code",
   "execution_count": 12,
   "metadata": {},
   "outputs": [
    {
     "name": "stdout",
     "output_type": "stream",
     "text": [
      "1\n"
     ]
    }
   ],
   "source": [
    "# https://codeforces.com/problemset/problem/148/A\n",
    "k = int(input())\n",
    "l = int(input())\n",
    "m = int(input())\n",
    "n = int(input())\n",
    "d = int(input())\n",
    "t = 0  # счетчик\n",
    "for i in range(1,d+1):\n",
    "    if i % k == 0:\n",
    "        t += 1\n",
    "    elif i % l == 0:\n",
    "        t += 1\n",
    "    elif i % m == 0:\n",
    "        t += 1\n",
    "    elif i % n == 0:\n",
    "        t += 1\n",
    "print(t)\n",
    "# 1)\n",
    "# k = int(input())\n",
    "# l = int(input())\n",
    "# m = int(input())\n",
    "# n = int(input())\n",
    "# d = int(input())\n",
    "# otv = [0]*d\n",
    "# for i in range(k-1, d, k):\n",
    "#     otv[i] = 1\n",
    "# for i in range(l-1, d, l):\n",
    "#     otv[i] = 1\n",
    "# for i in range(m-1, d, m):\n",
    "#     otv[i] = 1\n",
    "# for i in range(n-1, d, n):\n",
    "#     otv[i] = 1\n",
    "         \n",
    " \n",
    "# print(sum(otv))\n",
    "# 2) *a,d=map(int,open(0))\n",
    "#     print(sum(any(i%j==0 for j in a)for i in range(1,d+1)))"
   ]
  },
  {
   "cell_type": "code",
   "execution_count": 5,
   "metadata": {},
   "outputs": [
    {
     "name": "stdout",
     "output_type": "stream",
     "text": [
      "3\n",
      "0\n",
      "0\n",
      "0\n"
     ]
    },
    {
     "ename": "KeyboardInterrupt",
     "evalue": "Interrupted by user",
     "output_type": "error",
     "traceback": [
      "\u001b[1;31m---------------------------------------------------------------------------\u001b[0m",
      "\u001b[1;31mKeyboardInterrupt\u001b[0m                         Traceback (most recent call last)",
      "Cell \u001b[1;32mIn[5], line 4\u001b[0m\n\u001b[0;32m      1\u001b[0m \u001b[38;5;66;03m# https://codeforces.com/problemset/problem/1328/A\u001b[39;00m\n\u001b[0;32m      3\u001b[0m \u001b[38;5;28;01mfor\u001b[39;00m i \u001b[38;5;129;01min\u001b[39;00m \u001b[38;5;28mrange\u001b[39m(\u001b[38;5;28mint\u001b[39m(\u001b[38;5;28minput\u001b[39m())):\n\u001b[1;32m----> 4\u001b[0m     n ,k \u001b[38;5;241m=\u001b[39m \u001b[38;5;28mmap\u001b[39m(\u001b[38;5;28mint\u001b[39m,\u001b[38;5;28;43minput\u001b[39;49m\u001b[43m(\u001b[49m\u001b[43m)\u001b[49m\u001b[38;5;241m.\u001b[39msplit())\n\u001b[0;32m      5\u001b[0m     \u001b[38;5;28;01mif\u001b[39;00m n \u001b[38;5;241m%\u001b[39m k \u001b[38;5;241m==\u001b[39m \u001b[38;5;241m0\u001b[39m:\n\u001b[0;32m      6\u001b[0m         \u001b[38;5;28mprint\u001b[39m(\u001b[38;5;241m0\u001b[39m)\n",
      "File \u001b[1;32m~\\AppData\\Roaming\\Python\\Python311\\site-packages\\ipykernel\\kernelbase.py:1261\u001b[0m, in \u001b[0;36mKernel.raw_input\u001b[1;34m(self, prompt)\u001b[0m\n\u001b[0;32m   1259\u001b[0m     msg \u001b[38;5;241m=\u001b[39m \u001b[38;5;124m\"\u001b[39m\u001b[38;5;124mraw_input was called, but this frontend does not support input requests.\u001b[39m\u001b[38;5;124m\"\u001b[39m\n\u001b[0;32m   1260\u001b[0m     \u001b[38;5;28;01mraise\u001b[39;00m StdinNotImplementedError(msg)\n\u001b[1;32m-> 1261\u001b[0m \u001b[38;5;28;01mreturn\u001b[39;00m \u001b[38;5;28;43mself\u001b[39;49m\u001b[38;5;241;43m.\u001b[39;49m\u001b[43m_input_request\u001b[49m\u001b[43m(\u001b[49m\n\u001b[0;32m   1262\u001b[0m \u001b[43m    \u001b[49m\u001b[38;5;28;43mstr\u001b[39;49m\u001b[43m(\u001b[49m\u001b[43mprompt\u001b[49m\u001b[43m)\u001b[49m\u001b[43m,\u001b[49m\n\u001b[0;32m   1263\u001b[0m \u001b[43m    \u001b[49m\u001b[38;5;28;43mself\u001b[39;49m\u001b[38;5;241;43m.\u001b[39;49m\u001b[43m_parent_ident\u001b[49m\u001b[43m[\u001b[49m\u001b[38;5;124;43m\"\u001b[39;49m\u001b[38;5;124;43mshell\u001b[39;49m\u001b[38;5;124;43m\"\u001b[39;49m\u001b[43m]\u001b[49m\u001b[43m,\u001b[49m\n\u001b[0;32m   1264\u001b[0m \u001b[43m    \u001b[49m\u001b[38;5;28;43mself\u001b[39;49m\u001b[38;5;241;43m.\u001b[39;49m\u001b[43mget_parent\u001b[49m\u001b[43m(\u001b[49m\u001b[38;5;124;43m\"\u001b[39;49m\u001b[38;5;124;43mshell\u001b[39;49m\u001b[38;5;124;43m\"\u001b[39;49m\u001b[43m)\u001b[49m\u001b[43m,\u001b[49m\n\u001b[0;32m   1265\u001b[0m \u001b[43m    \u001b[49m\u001b[43mpassword\u001b[49m\u001b[38;5;241;43m=\u001b[39;49m\u001b[38;5;28;43;01mFalse\u001b[39;49;00m\u001b[43m,\u001b[49m\n\u001b[0;32m   1266\u001b[0m \u001b[43m\u001b[49m\u001b[43m)\u001b[49m\n",
      "File \u001b[1;32m~\\AppData\\Roaming\\Python\\Python311\\site-packages\\ipykernel\\kernelbase.py:1304\u001b[0m, in \u001b[0;36mKernel._input_request\u001b[1;34m(self, prompt, ident, parent, password)\u001b[0m\n\u001b[0;32m   1301\u001b[0m \u001b[38;5;28;01mexcept\u001b[39;00m \u001b[38;5;167;01mKeyboardInterrupt\u001b[39;00m:\n\u001b[0;32m   1302\u001b[0m     \u001b[38;5;66;03m# re-raise KeyboardInterrupt, to truncate traceback\u001b[39;00m\n\u001b[0;32m   1303\u001b[0m     msg \u001b[38;5;241m=\u001b[39m \u001b[38;5;124m\"\u001b[39m\u001b[38;5;124mInterrupted by user\u001b[39m\u001b[38;5;124m\"\u001b[39m\n\u001b[1;32m-> 1304\u001b[0m     \u001b[38;5;28;01mraise\u001b[39;00m \u001b[38;5;167;01mKeyboardInterrupt\u001b[39;00m(msg) \u001b[38;5;28;01mfrom\u001b[39;00m \u001b[38;5;28;01mNone\u001b[39;00m\n\u001b[0;32m   1305\u001b[0m \u001b[38;5;28;01mexcept\u001b[39;00m \u001b[38;5;167;01mException\u001b[39;00m:\n\u001b[0;32m   1306\u001b[0m     \u001b[38;5;28mself\u001b[39m\u001b[38;5;241m.\u001b[39mlog\u001b[38;5;241m.\u001b[39mwarning(\u001b[38;5;124m\"\u001b[39m\u001b[38;5;124mInvalid Message:\u001b[39m\u001b[38;5;124m\"\u001b[39m, exc_info\u001b[38;5;241m=\u001b[39m\u001b[38;5;28;01mTrue\u001b[39;00m)\n",
      "\u001b[1;31mKeyboardInterrupt\u001b[0m: Interrupted by user"
     ]
    }
   ],
   "source": [
    "# https://codeforces.com/problemset/problem/1328/A\n",
    "\n",
    "for i in range(int(input())):\n",
    "    n ,k = map(int,input().split())\n",
    "    if n % k == 0:\n",
    "        print(0)\n",
    "    else:\n",
    "        print(k-(n%k))\n",
    "# 1) def divisibility_problem():\n",
    "#     t = int(input())\n",
    "#     for i in range(t):\n",
    "#         a, b = map(int, input().split(' '))\n",
    "#         if a % b:  # same as if a % b != 0:\n",
    "#             print(b - (a % b))\n",
    "#         else:\n",
    "#             print(0)\n",
    " \n",
    "# if __name__ == '__main__':\n",
    "#     divisibility_problem()\n",
    "# 2)n = int(input())\n",
    "# l = []\n",
    "# for i in range(n):\n",
    "#     a, b = map(int, input().split())\n",
    "#     l.append( [a,b] )\n",
    " \n",
    "# for i in l:\n",
    "#     print((i[1]-i[0]%i[1])%i[1])"
   ]
  },
  {
   "cell_type": "code",
   "execution_count": null,
   "metadata": {},
   "outputs": [],
   "source": []
  }
 ],
 "metadata": {
  "kernelspec": {
   "display_name": "cond_venv",
   "language": "python",
   "name": "python3"
  },
  "language_info": {
   "codemirror_mode": {
    "name": "ipython",
    "version": 3
   },
   "file_extension": ".py",
   "mimetype": "text/x-python",
   "name": "python",
   "nbconvert_exporter": "python",
   "pygments_lexer": "ipython3",
   "version": "3.11.3"
  }
 },
 "nbformat": 4,
 "nbformat_minor": 2
}
