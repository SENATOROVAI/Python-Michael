{
 "cells": [
  {
   "cell_type": "code",
   "execution_count": 1,
   "metadata": {},
   "outputs": [
    {
     "name": "stdout",
     "output_type": "stream",
     "text": [
      "NO\n",
      "NO\n"
     ]
    }
   ],
   "source": [
    "# https://codeforces.com/problemset/problem/4/A\n",
    "w = int(input())\n",
    "if w % 2 == 0 and w > 2:\n",
    "    print('Yes')\n",
    "else:\n",
    "    print('NO')\n",
    "\n",
    "# файл лога не забудь с планом урока.\n",
    "    \n",
    "print('YNEOS'[5%~int(input())%2::2])"
   ]
  }
 ],
 "metadata": {
  "kernelspec": {
   "display_name": "cond_venv",
   "language": "python",
   "name": "python3"
  },
  "language_info": {
   "codemirror_mode": {
    "name": "ipython",
    "version": 3
   },
   "file_extension": ".py",
   "mimetype": "text/x-python",
   "name": "python",
   "nbconvert_exporter": "python",
   "pygments_lexer": "ipython3",
   "version": "3.11.6"
  }
 },
 "nbformat": 4,
 "nbformat_minor": 2
}
