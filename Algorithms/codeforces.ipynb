{
 "cells": [
  {
   "cell_type": "code",
   "execution_count": 1,
   "metadata": {},
   "outputs": [
    {
     "name": "stdout",
     "output_type": "stream",
     "text": [
      "NO\n",
      "NO\n"
     ]
    }
   ],
   "source": [
    "# https://codeforces.com/problemset/problem/4/A\n",
    "w = int(input())\n",
    "if w % 2 == 0 and w > 2:\n",
    "    print('Yes')\n",
    "else:\n",
    "    print('NO')\n",
    "\n",
    "# файл лога не забудь с планом урока.\n",
    "    \n",
    "# print('YNEOS'[5%~int(input())%2::2])"
   ]
  },
  {
   "cell_type": "code",
   "execution_count": 21,
   "metadata": {},
   "outputs": [
    {
     "name": "stdout",
     "output_type": "stream",
     "text": [
      "11.0\n"
     ]
    }
   ],
   "source": [
    "# https://codeforces.com/problemset/problem/200/B\n",
    "a = int(input())\n",
    "b = sum(map(int,input().split()))\n",
    "print(b/a)\n",
    "# 1) print(1/int(input())*sum(map(int,input().split())))\n",
    "# 2) n = int(input())\n",
    "# drinks = list(map(int,input().split()))\n",
    "# def volumefraction(n, drinks):\n",
    "#     sum = 0\n",
    "#     for i in drinks:\n",
    "#         sum += i\n",
    "#     print(sum / n)\n",
    "# volumefraction(n, drinks)"
   ]
  },
  {
   "cell_type": "code",
   "execution_count": 18,
   "metadata": {},
   "outputs": [
    {
     "data": {
      "text/plain": [
       "10"
      ]
     },
     "execution_count": 18,
     "metadata": {},
     "output_type": "execute_result"
    }
   ],
   "source": [
    "a "
   ]
  },
  {
   "cell_type": "code",
   "execution_count": null,
   "metadata": {},
   "outputs": [],
   "source": []
  }
 ],
 "metadata": {
  "kernelspec": {
   "display_name": "cond_venv",
   "language": "python",
   "name": "python3"
  },
  "language_info": {
   "codemirror_mode": {
    "name": "ipython",
    "version": 3
   },
   "file_extension": ".py",
   "mimetype": "text/x-python",
   "name": "python",
   "nbconvert_exporter": "python",
   "pygments_lexer": "ipython3",
   "version": "3.11.3"
  }
 },
 "nbformat": 4,
 "nbformat_minor": 2
}
