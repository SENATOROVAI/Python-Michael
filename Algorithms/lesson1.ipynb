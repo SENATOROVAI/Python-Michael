{
 "cells": [
  {
   "cell_type": "markdown",
   "metadata": {},
   "source": [
    "RAM - машина с произвольным доступом к памяти. Теор. модель вычисления, которая используется для аналзиза алгоритмов. Оцениваем алгоритмы по кол-ву операций."
   ]
  },
  {
   "cell_type": "code",
   "execution_count": 15,
   "metadata": {},
   "outputs": [
    {
     "name": "stdout",
     "output_type": "stream",
     "text": [
      "7\n"
     ]
    }
   ],
   "source": [
    "# О(n) работает за линию\n",
    "for i in list_1:\n",
    "    max_ = list_1[0]\n",
    "    if i > max_:\n",
    "        max_ = i\n",
    "print(max_)"
   ]
  },
  {
   "cell_type": "markdown",
   "metadata": {},
   "source": []
  },
  {
   "cell_type": "code",
   "execution_count": 34,
   "metadata": {},
   "outputs": [
    {
     "data": {
      "text/plain": [
       "21"
      ]
     },
     "execution_count": 34,
     "metadata": {},
     "output_type": "execute_result"
    }
   ],
   "source": [
    "# O(n**2)\n",
    "myList = [[1, 2], [3, 4], [5, 6]]\n",
    "\n",
    "\n",
    "def getSum(myList):\n",
    "    sum_ = 0\n",
    "    for i in myList:\n",
    "        for j in i:\n",
    "            sum_ += j\n",
    "            # print(j)\n",
    "    return sum_\n",
    "\n",
    "\n",
    "getSum(myList)"
   ]
  },
  {
   "cell_type": "code",
   "execution_count": null,
   "metadata": {},
   "outputs": [],
   "source": []
  },
  {
   "cell_type": "markdown",
   "metadata": {},
   "source": [
    "time complexity(Big(O) - худший случай алгоритма)\n",
    "space complexity(Сложность по памяти/пространственная сложность)"
   ]
  },
  {
   "cell_type": "code",
   "execution_count": 14,
   "metadata": {},
   "outputs": [
    {
     "data": {
      "text/plain": [
       "4"
      ]
     },
     "execution_count": 14,
     "metadata": {},
     "output_type": "execute_result"
    }
   ],
   "source": [
    "# константаня времменая сложность от 1\n",
    "# стек - структура данных, работает по lifo -last in firs out(последний эл. добавлленый в стек, будет извлечен первым)\n",
    "list_1 = [7, 1, 3, 4]\n",
    "list_1[0]  # time complexity O(1)\n",
    "list_1.pop()\n",
    "# dir(list_1)\n",
    "# хэш таблица - ключ:значение пример: словарь {}, обращение происходит за constn ran"
   ]
  }
 ],
 "metadata": {
  "kernelspec": {
   "display_name": "base",
   "language": "python",
   "name": "python3"
  },
  "language_info": {
   "codemirror_mode": {
    "name": "ipython",
    "version": 3
   },
   "file_extension": ".py",
   "mimetype": "text/x-python",
   "name": "python",
   "nbconvert_exporter": "python",
   "pygments_lexer": "ipython3",
   "version": "3.11.5"
  }
 },
 "nbformat": 4,
 "nbformat_minor": 2
}
