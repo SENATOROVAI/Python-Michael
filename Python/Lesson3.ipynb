{
 "cells": [
  {
   "cell_type": "code",
   "execution_count": null,
   "metadata": {},
   "outputs": [],
   "source": [
    "Согласно PEP8 название переменных используется нотация snake case\n"
   ]
  },
  {
   "cell_type": "code",
   "execution_count": 13,
   "metadata": {},
   "outputs": [
    {
     "ename": "NameError",
     "evalue": "name 'main' is not defined",
     "output_type": "error",
     "traceback": [
      "\u001b[1;31m---------------------------------------------------------------------------\u001b[0m",
      "\u001b[1;31mNameError\u001b[0m                                 Traceback (most recent call last)",
      "Cell \u001b[1;32mIn[13], line 5\u001b[0m\n\u001b[0;32m      1\u001b[0m \u001b[38;5;66;03m# def main():\u001b[39;00m\n\u001b[0;32m      2\u001b[0m \u001b[38;5;66;03m#     ...\u001b[39;00m\n\u001b[0;32m      4\u001b[0m \u001b[38;5;28;01mif\u001b[39;00m  \u001b[38;5;18m__name__\u001b[39m \u001b[38;5;241m==\u001b[39m \u001b[38;5;124m\"\u001b[39m\u001b[38;5;124m__main__\u001b[39m\u001b[38;5;124m\"\u001b[39m: \u001b[38;5;66;03m# Дандер нейм / __name__ - содержится название модуля, по умолчанию там main - главный файл, называется точкой входа. Место откуда происходит запуск программы\u001b[39;00m\n\u001b[1;32m----> 5\u001b[0m     \u001b[43mmain\u001b[49m() \n\u001b[0;32m      6\u001b[0m \u001b[38;5;66;03m# \"__main__\"  # Файл в котором мы работаем\u001b[39;00m\n\u001b[0;32m      7\u001b[0m \u001b[38;5;66;03m# Файл с рассширением .py - модуль\u001b[39;00m\n\u001b[0;32m      9\u001b[0m \u001b[38;5;28;01mwhile\u001b[39;00m \u001b[38;5;241m1\u001b[39m:\n",
      "\u001b[1;31mNameError\u001b[0m: name 'main' is not defined"
     ]
    }
   ],
   "source": [
    "# def main():\n",
    "#     ...\n",
    "\n",
    "if  __name__ == \"__main__\": # Дандер нейм / __name__ - содержится название модуля, по умолчанию там main - главный файл, называется точкой входа. Место откуда происходит запуск программы\n",
    "    main() \n",
    "# \"__main__\"  # Файл в котором мы работаем\n",
    "# Файл с рассширением .py - модуль\n",
    "\n",
    "while 1:\n",
    "    x = input()\n",
    "    print(x)"
   ]
  },
  {
   "cell_type": "code",
   "execution_count": 21,
   "metadata": {},
   "outputs": [
    {
     "data": {
      "text/plain": [
       "str"
      ]
     },
     "execution_count": 21,
     "metadata": {},
     "output_type": "execute_result"
    }
   ],
   "source": [
    "# dir(input)\n",
    "# type(input)\n",
    "\n",
    "type(input.__call__())"
   ]
  },
  {
   "cell_type": "code",
   "execution_count": 24,
   "metadata": {},
   "outputs": [
    {
     "name": "stdout",
     "output_type": "stream",
     "text": [
      "Help on function input in module __main__:\n",
      "\n",
      "input(__prompt: object = '') -> str\n",
      "\n"
     ]
    }
   ],
   "source": [
    "help(input)\n",
    "\n",
    "def input(__prompt: object = \"\") -> str: # аннотация типов\n",
    "    ... \n",
    "\n",
    "number: int = 1  # mypy - type checker \n",
    "name: str = \"SENATOROV\""
   ]
  },
  {
   "cell_type": "code",
   "execution_count": 8,
   "metadata": {},
   "outputs": [],
   "source": [
    "# type(__name__)\n",
    "# dir(__name__)"
   ]
  },
  {
   "cell_type": "code",
   "execution_count": null,
   "metadata": {},
   "outputs": [],
   "source": []
  }
 ],
 "metadata": {
  "kernelspec": {
   "display_name": "cond_venv",
   "language": "python",
   "name": "python3"
  },
  "language_info": {
   "codemirror_mode": {
    "name": "ipython",
    "version": 3
   },
   "file_extension": ".py",
   "mimetype": "text/x-python",
   "name": "python",
   "nbconvert_exporter": "python",
   "pygments_lexer": "ipython3",
   "version": "3.11.6"
  }
 },
 "nbformat": 4,
 "nbformat_minor": 2
}
