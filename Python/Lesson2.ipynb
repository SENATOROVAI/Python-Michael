{
 "cells": [
  {
   "cell_type": "code",
   "execution_count": null,
   "metadata": {},
   "outputs": [],
   "source": [
    "from typing import List\n",
    "linter - инструмент анализа и поиска ошибок (flake 8)\n",
    "Black(shift+alf+f) - инструмент автоформатирования кода по PEP8 "
   ]
  },
  {
   "cell_type": "code",
   "execution_count": 3,
   "metadata": {},
   "outputs": [
    {
     "name": "stdout",
     "output_type": "stream",
     "text": [
      "Requirement already satisfied: flake8-variables-names in d:\\users\\pc\\appdata\\local\\programs\\python\\python311\\lib\\site-packages (0.0.6)\n"
     ]
    },
    {
     "name": "stderr",
     "output_type": "stream",
     "text": [
      "\n",
      "[notice] A new release of pip available: 22.3.1 -> 23.3.1\n",
      "[notice] To update, run: python.exe -m pip install --upgrade pip\n"
     ]
    },
    {
     "name": "stdout",
     "output_type": "stream",
     "text": [
      "Requirement already satisfied: flake8-functions-names in d:\\users\\pc\\appdata\\local\\programs\\python\\python311\\lib\\site-packages (0.4.0)\n",
      "Requirement already satisfied: setuptools in d:\\users\\pc\\appdata\\local\\programs\\python\\python311\\lib\\site-packages (from flake8-functions-names) (65.5.0)\n"
     ]
    },
    {
     "name": "stderr",
     "output_type": "stream",
     "text": [
      "\n",
      "[notice] A new release of pip available: 22.3.1 -> 23.3.1\n",
      "[notice] To update, run: python.exe -m pip install --upgrade pip\n"
     ]
    },
    {
     "name": "stdout",
     "output_type": "stream",
     "text": [
      "Requirement already satisfied: flake8-builtins in d:\\users\\pc\\appdata\\local\\programs\\python\\python311\\lib\\site-packages (2.2.0)"
     ]
    },
    {
     "name": "stderr",
     "output_type": "stream",
     "text": [
      "\n",
      "[notice] A new release of pip available: 22.3.1 -> 23.3.1\n",
      "[notice] To update, run: python.exe -m pip install --upgrade pip\n"
     ]
    },
    {
     "name": "stdout",
     "output_type": "stream",
     "text": [
      "\n",
      "Requirement already satisfied: flake8 in d:\\users\\pc\\appdata\\local\\programs\\python\\python311\\lib\\site-packages (from flake8-builtins) (6.1.0)\n",
      "Requirement already satisfied: mccabe<0.8.0,>=0.7.0 in d:\\users\\pc\\appdata\\local\\programs\\python\\python311\\lib\\site-packages (from flake8->flake8-builtins) (0.7.0)\n",
      "Requirement already satisfied: pycodestyle<2.12.0,>=2.11.0 in d:\\users\\pc\\appdata\\local\\programs\\python\\python311\\lib\\site-packages (from flake8->flake8-builtins) (2.11.1)\n",
      "Requirement already satisfied: pyflakes<3.2.0,>=3.1.0 in d:\\users\\pc\\appdata\\local\\programs\\python\\python311\\lib\\site-packages (from flake8->flake8-builtins) (3.1.0)\n",
      "Requirement already satisfied: flake8-bugbear in d:\\users\\pc\\appdata\\local\\programs\\python\\python311\\lib\\site-packages (23.12.2)\n",
      "Requirement already satisfied: flake8>=6.0.0 in d:\\users\\pc\\appdata\\local\\programs\\python\\python311\\lib\\site-packages (from flake8-bugbear) (6.1.0)\n",
      "Requirement already satisfied: attrs>=19.2.0 in d:\\users\\pc\\appdata\\local\\programs\\python\\python311\\lib\\site-packages (from flake8-bugbear) (23.1.0)\n",
      "Requirement already satisfied: mccabe<0.8.0,>=0.7.0 in d:\\users\\pc\\appdata\\local\\programs\\python\\python311\\lib\\site-packages (from flake8>=6.0.0->flake8-bugbear) (0.7.0)\n",
      "Requirement already satisfied: pycodestyle<2.12.0,>=2.11.0 in d:\\users\\pc\\appdata\\local\\programs\\python\\python311\\lib\\site-packages (from flake8>=6.0.0->flake8-bugbear) (2.11.1)\n",
      "Requirement already satisfied: pyflakes<3.2.0,>=3.1.0 in d:\\users\\pc\\appdata\\local\\programs\\python\\python311\\lib\\site-packages (from flake8>=6.0.0->flake8-bugbear) (3.1.0)\n"
     ]
    },
    {
     "name": "stderr",
     "output_type": "stream",
     "text": [
      "\n",
      "[notice] A new release of pip available: 22.3.1 -> 23.3.1\n",
      "[notice] To update, run: python.exe -m pip install --upgrade pip\n"
     ]
    },
    {
     "name": "stdout",
     "output_type": "stream",
     "text": [
      "Requirement already satisfied: pep8-naming in d:\\users\\pc\\appdata\\local\\programs\\python\\python311\\lib\\site-packages (0.13.3)\n",
      "Requirement already satisfied: flake8>=5.0.0 in d:\\users\\pc\\appdata\\local\\programs\\python\\python311\\lib\\site-packages (from pep8-naming) (6.1.0)\n",
      "Requirement already satisfied: mccabe<0.8.0,>=0.7.0 in d:\\users\\pc\\appdata\\local\\programs\\python\\python311\\lib\\site-packages (from flake8>=5.0.0->pep8-naming) (0.7.0)\n",
      "Requirement already satisfied: pycodestyle<2.12.0,>=2.11.0 in d:\\users\\pc\\appdata\\local\\programs\\python\\python311\\lib\\site-packages (from flake8>=5.0.0->pep8-naming) (2.11.1)\n",
      "Requirement already satisfied: pyflakes<3.2.0,>=3.1.0 in d:\\users\\pc\\appdata\\local\\programs\\python\\python311\\lib\\site-packages (from flake8>=5.0.0->pep8-naming) (3.1.0)\n"
     ]
    },
    {
     "name": "stderr",
     "output_type": "stream",
     "text": [
      "\n",
      "[notice] A new release of pip available: 22.3.1 -> 23.3.1\n",
      "[notice] To update, run: python.exe -m pip install --upgrade pip\n"
     ]
    }
   ],
   "source": [
    "!pip install flake8-variables-names\n",
    "!pip install flake8-functions-names\n",
    "!pip install flake8-builtins\n",
    "!pip install flake8-bugbear\n",
    "!pip install pep8-naming"
   ]
  },
  {
   "cell_type": "code",
   "execution_count": 4,
   "metadata": {},
   "outputs": [],
   "source": [
    "!python -m venv venv # создание виртуального окружения, Виртуальное окружение - это отдельная папка с питоном и его зависимостями\n"
   ]
  },
  {
   "cell_type": "code",
   "execution_count": 1,
   "metadata": {},
   "outputs": [
    {
     "name": "stdout",
     "output_type": "stream",
     "text": [
      "asttokens==2.4.1\n",
      "colorama==0.4.6\n",
      "comm==0.2.0\n",
      "debugpy==1.8.0\n",
      "decorator==5.1.1\n",
      "exceptiongroup @ file:///home/conda/feedstock_root/build_artifacts/exceptiongroup_1700579780973/work\n",
      "executing==2.0.1\n",
      "importlib-metadata @ file:///home/conda/feedstock_root/build_artifacts/importlib-metadata_1701632192416/work\n",
      "ipykernel==6.27.1\n",
      "ipython==8.18.1\n",
      "jedi==0.19.1\n",
      "jupyter_client==8.6.0\n",
      "jupyter_core==5.5.0\n",
      "matplotlib-inline==0.1.6\n",
      "nest-asyncio==1.5.8\n",
      "packaging==23.2\n",
      "parso==0.8.3\n",
      "pickleshare @ file:///home/conda/feedstock_root/build_artifacts/pickleshare_1602536217715/work\n",
      "platformdirs==4.1.0\n",
      "prompt-toolkit==3.0.41\n",
      "psutil==5.9.6\n",
      "pure-eval==0.2.2\n",
      "Pygments==2.17.2\n",
      "python-dateutil==2.8.2\n",
      "pywin32==306\n",
      "pyzmq==25.1.2\n",
      "six @ file:///home/conda/feedstock_root/build_artifacts/six_1620240208055/work\n",
      "stack-data==0.6.3\n",
      "tornado==6.4\n",
      "traitlets==5.14.0\n",
      "typing_extensions @ file:///home/conda/feedstock_root/build_artifacts/typing_extensions_1702176139754/work\n",
      "wcwidth==0.2.12\n",
      "zipp @ file:///home/conda/feedstock_root/build_artifacts/zipp_1695255097490/work\n"
     ]
    }
   ],
   "source": [
    "!pip freeze # Показывает зависимости, модули\n",
    "# pip паккетный менеджер, который управляет зависимосями"
   ]
  },
  {
   "cell_type": "code",
   "execution_count": 2,
   "metadata": {},
   "outputs": [],
   "source": [
    "!pip freeze > requirements.txt #Выгрузка зависимостей"
   ]
  },
  {
   "cell_type": "code",
   "execution_count": 3,
   "metadata": {},
   "outputs": [
    {
     "name": "stdout",
     "output_type": "stream",
     "text": [
      "asttokens==2.4.1\n",
      "colorama==0.4.6\n",
      "comm==0.2.0\n",
      "debugpy==1.8.0\n",
      "decorator==5.1.1\n",
      "exceptiongroup @ file:///home/conda/feedstock_root/build_artifacts/exceptiongroup_1700579780973/work\n",
      "executing==2.0.1\n",
      "importlib-metadata @ file:///home/conda/feedstock_root/build_artifacts/importlib-metadata_1701632192416/work\n",
      "ipykernel==6.27.1\n",
      "ipython==8.18.1\n",
      "jedi==0.19.1\n",
      "jupyter_client==8.6.0\n",
      "jupyter_core==5.5.0\n",
      "matplotlib-inline==0.1.6\n",
      "nest-asyncio==1.5.8\n",
      "packaging==23.2\n",
      "parso==0.8.3\n",
      "pickleshare @ file:///home/conda/feedstock_root/build_artifacts/pickleshare_1602536217715/work\n",
      "platformdirs==4.1.0\n",
      "prompt-toolkit==3.0.41\n",
      "psutil==5.9.6\n",
      "pure-eval==0.2.2\n",
      "Pygments==2.17.2\n",
      "python-dateutil==2.8.2\n",
      "pywin32==306\n",
      "pyzmq==25.1.2\n",
      "six @ file:///home/conda/feedstock_root/build_artifacts/six_1620240208055/work\n",
      "stack-data==0.6.3\n",
      "tornado==6.4\n",
      "traitlets==5.14.0\n",
      "typing_extensions @ file:///home/conda/feedstock_root/build_artifacts/typing_extensions_1702176139754/work\n",
      "wcwidth==0.2.12\n",
      "zipp @ file:///home/conda/feedstock_root/build_artifacts/zipp_1695255097490/work\n",
      "## The following requirements were added by pip freeze:\n"
     ]
    }
   ],
   "source": [
    "!pip freeze -r requirements.txt # Установка зависимостей"
   ]
  },
  {
   "cell_type": "code",
   "execution_count": 4,
   "metadata": {},
   "outputs": [
    {
     "data": {
      "text/plain": [
       "0"
      ]
     },
     "execution_count": 4,
     "metadata": {},
     "output_type": "execute_result"
    }
   ],
   "source": [
    "4 % 2  # остаток от деления"
   ]
  },
  {
   "cell_type": "code",
   "execution_count": 3,
   "metadata": {},
   "outputs": [
    {
     "name": "stdout",
     "output_type": "stream",
     "text": [
      "7\n"
     ]
    }
   ],
   "source": [
    "list1: List[int] = [1, 5, 7]  # проверь аннотацию типов через mypy\n",
    "for i in list1:\n",
    "    max = list1[0]\n",
    "    if max < i:\n",
    "        max = i\n",
    "print(max)"
   ]
  },
  {
   "cell_type": "code",
   "execution_count": 6,
   "metadata": {},
   "outputs": [
    {
     "data": {
      "text/plain": [
       "2"
      ]
     },
     "execution_count": 6,
     "metadata": {},
     "output_type": "execute_result"
    }
   ],
   "source": [
    "4 // 2"
   ]
  },
  {
   "cell_type": "code",
   "execution_count": 7,
   "metadata": {},
   "outputs": [
    {
     "data": {
      "text/plain": [
       "16"
      ]
     },
     "execution_count": 7,
     "metadata": {},
     "output_type": "execute_result"
    }
   ],
   "source": [
    "4**2"
   ]
  },
  {
   "cell_type": "code",
   "execution_count": 9,
   "metadata": {},
   "outputs": [
    {
     "name": "stdout",
     "output_type": "stream",
     "text": [
      "1\n",
      "2\n",
      "4\n",
      "8\n",
      "16\n",
      "32\n",
      "64\n",
      "128\n",
      "256\n",
      "512\n"
     ]
    }
   ],
   "source": [
    "for i in range(10):\n",
    "    a = 2**i\n",
    "    print(a)"
   ]
  },
  {
   "cell_type": "code",
   "execution_count": 10,
   "metadata": {},
   "outputs": [
    {
     "data": {
      "text/plain": [
       "False"
      ]
     },
     "execution_count": 10,
     "metadata": {},
     "output_type": "execute_result"
    }
   ],
   "source": [
    "True + False > True + True"
   ]
  },
  {
   "cell_type": "code",
   "execution_count": 12,
   "metadata": {},
   "outputs": [
    {
     "data": {
      "text/plain": [
       "True"
      ]
     },
     "execution_count": 12,
     "metadata": {},
     "output_type": "execute_result"
    }
   ],
   "source": [
    "True == 1"
   ]
  },
  {
   "cell_type": "code",
   "execution_count": 13,
   "metadata": {},
   "outputs": [
    {
     "data": {
      "text/plain": [
       "0"
      ]
     },
     "execution_count": 13,
     "metadata": {},
     "output_type": "execute_result"
    }
   ],
   "source": [
    "True - 1  # type custing"
   ]
  },
  {
   "cell_type": "code",
   "execution_count": 14,
   "metadata": {},
   "outputs": [
    {
     "data": {
      "text/plain": [
       "1"
      ]
     },
     "execution_count": 14,
     "metadata": {},
     "output_type": "execute_result"
    }
   ],
   "source": [
    "1 or 0"
   ]
  },
  {
   "cell_type": "code",
   "execution_count": 15,
   "metadata": {},
   "outputs": [
    {
     "data": {
      "text/plain": [
       "True"
      ]
     },
     "execution_count": 15,
     "metadata": {},
     "output_type": "execute_result"
    }
   ],
   "source": [
    "True | False"
   ]
  },
  {
   "cell_type": "code",
   "execution_count": 16,
   "metadata": {},
   "outputs": [
    {
     "data": {
      "text/plain": [
       "'0b1'"
      ]
     },
     "execution_count": 16,
     "metadata": {},
     "output_type": "execute_result"
    }
   ],
   "source": [
    "bin(True)"
   ]
  },
  {
   "cell_type": "code",
   "execution_count": 21,
   "metadata": {},
   "outputs": [
    {
     "data": {
      "text/plain": [
       "10"
      ]
     },
     "execution_count": 21,
     "metadata": {},
     "output_type": "execute_result"
    }
   ],
   "source": [
    "int(bin(2)[2:]) & int(bin(3)[2:])  # ПО битовое умножение логическое И"
   ]
  },
  {
   "cell_type": "code",
   "execution_count": 19,
   "metadata": {},
   "outputs": [
    {
     "data": {
      "text/plain": [
       "'11'"
      ]
     },
     "execution_count": 19,
     "metadata": {},
     "output_type": "execute_result"
    }
   ],
   "source": [
    "bin(3)[2:]"
   ]
  },
  {
   "cell_type": "code",
   "execution_count": null,
   "metadata": {},
   "outputs": [],
   "source": []
  }
 ],
 "metadata": {
  "kernelspec": {
   "display_name": "Python 3",
   "language": "python",
   "name": "python3"
  },
  "language_info": {
   "codemirror_mode": {
    "name": "ipython",
    "version": 3
   },
   "file_extension": ".py",
   "mimetype": "text/x-python",
   "name": "python",
   "nbconvert_exporter": "python",
   "pygments_lexer": "ipython3",
   "version": "3.11.6"
  }
 },
 "nbformat": 4,
 "nbformat_minor": 2
}
