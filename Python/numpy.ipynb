{
 "cells": [
  {
   "cell_type": "code",
   "execution_count": 1,
   "metadata": {},
   "outputs": [],
   "source": [
    "import numpy as np"
   ]
  },
  {
   "cell_type": "code",
   "execution_count": 52,
   "metadata": {},
   "outputs": [],
   "source": [
    "v1 = [60, 90, 1.76]  # list\n",
    "v2 = np.array([1, 2, 3], dtype=\"int8\")  # неореинтированный ветор, не рабоатет Т\n",
    "v3 = np.array([[1, 2, 3]], dtype=\"int8\")  # ветор строка\n",
    "v4 = np.array([[1], [2], [3]], dtype=\"int8\")  # вектор столбец\n",
    "v1_numpy = np.array(v1, dtype=\"int16\")  # default = int32 if int in list"
   ]
  },
  {
   "cell_type": "code",
   "execution_count": 53,
   "metadata": {},
   "outputs": [
    {
     "data": {
      "text/plain": [
       "array([[2, 3, 4],\n",
       "       [3, 4, 5],\n",
       "       [4, 5, 6]], dtype=int8)"
      ]
     },
     "execution_count": 53,
     "metadata": {},
     "output_type": "execute_result"
    }
   ],
   "source": [
    "v1_numpy.dtype  # атрибут\n",
    "v3 + v4  # => операция транслирования"
   ]
  },
  {
   "cell_type": "code",
   "execution_count": 49,
   "metadata": {},
   "outputs": [
    {
     "data": {
      "text/plain": [
       "array([[1],\n",
       "       [2],\n",
       "       [3]], dtype=int8)"
      ]
     },
     "execution_count": 49,
     "metadata": {},
     "output_type": "execute_result"
    }
   ],
   "source": [
    "# v1_numpy * 2\n",
    "v2.T"
   ]
  },
  {
   "cell_type": "code",
   "execution_count": 5,
   "metadata": {},
   "outputs": [
    {
     "name": "stdout",
     "output_type": "stream",
     "text": [
      "     *** Found in numpy ***\n",
      " int32()\n",
      "\n",
      "Signed integer type, compatible with Python `int` and C ``long``.\n",
      "\n",
      ":Character code: ``'l'``\n",
      ":Canonical name: `numpy.int_`\n",
      ":Alias on this platform (win32 AMD64): `numpy.int32`: 32-bit signed integer (``-2_147_483_648`` to ``2_147_483_647``).\n",
      "\n",
      "\n",
      "Methods:\n",
      "\n",
      "  all  --  Scalar method identical to the corresponding array attribute.\n",
      "  any  --  Scalar method identical to the corresponding array attribute.\n",
      "  argmax  --  Scalar method identical to the corresponding array attribute.\n",
      "  argmin  --  Scalar method identical to the corresponding array attribute.\n",
      "  argsort  --  Scalar method identical to the corresponding array attribute.\n",
      "  astype  --  Scalar method identical to the corresponding array attribute.\n",
      "  bit_count  --  int32.bit_count() -> int\n",
      "  byteswap  --  Scalar method identical to the corresponding array attribute.\n",
      "  choose  --  Scalar method identical to the corresponding array attribute.\n",
      "  clip  --  Scalar method identical to the corresponding array attribute.\n",
      "  compress  --  Scalar method identical to the corresponding array attribute.\n",
      "  conj  --  None\n",
      "  conjugate  --  Scalar method identical to the corresponding array attribute.\n",
      "  copy  --  Scalar method identical to the corresponding array attribute.\n",
      "  cumprod  --  Scalar method identical to the corresponding array attribute.\n",
      "  cumsum  --  Scalar method identical to the corresponding array attribute.\n",
      "  diagonal  --  Scalar method identical to the corresponding array attribute.\n",
      "  dump  --  Scalar method identical to the corresponding array attribute.\n",
      "  dumps  --  Scalar method identical to the corresponding array attribute.\n",
      "  fill  --  Scalar method identical to the corresponding array attribute.\n",
      "  flatten  --  Scalar method identical to the corresponding array attribute.\n",
      "  getfield  --  Scalar method identical to the corresponding array attribute.\n",
      "  is_integer  --  integer.is_integer() -> bool\n",
      "  item  --  Scalar method identical to the corresponding array attribute.\n",
      "  itemset  --  Scalar method identical to the corresponding array attribute.\n",
      "  max  --  Scalar method identical to the corresponding array attribute.\n",
      "  mean  --  Scalar method identical to the corresponding array attribute.\n",
      "  min  --  Scalar method identical to the corresponding array attribute.\n",
      "  newbyteorder  --  newbyteorder(new_order='S', /)\n",
      "  nonzero  --  Scalar method identical to the corresponding array attribute.\n",
      "  prod  --  Scalar method identical to the corresponding array attribute.\n",
      "  ptp  --  Scalar method identical to the corresponding array attribute.\n",
      "  put  --  Scalar method identical to the corresponding array attribute.\n",
      "  ravel  --  Scalar method identical to the corresponding array attribute.\n",
      "  repeat  --  Scalar method identical to the corresponding array attribute.\n",
      "  reshape  --  Scalar method identical to the corresponding array attribute.\n",
      "  resize  --  Scalar method identical to the corresponding array attribute.\n",
      "  round  --  Scalar method identical to the corresponding array attribute.\n",
      "  searchsorted  --  Scalar method identical to the corresponding array attribute.\n",
      "  setfield  --  Scalar method identical to the corresponding array attribute.\n",
      "  setflags  --  Scalar method identical to the corresponding array attribute.\n",
      "  sort  --  Scalar method identical to the corresponding array attribute.\n",
      "  squeeze  --  Scalar method identical to the corresponding array attribute.\n",
      "  std  --  Scalar method identical to the corresponding array attribute.\n",
      "  sum  --  Scalar method identical to the corresponding array attribute.\n",
      "  swapaxes  --  Scalar method identical to the corresponding array attribute.\n",
      "  take  --  Scalar method identical to the corresponding array attribute.\n",
      "  tobytes  --  None\n",
      "  tofile  --  Scalar method identical to the corresponding array attribute.\n",
      "  tolist  --  Scalar method identical to the corresponding array attribute.\n",
      "  tostring  --  Scalar method identical to the corresponding array attribute.\n",
      "  trace  --  Scalar method identical to the corresponding array attribute.\n",
      "  transpose  --  Scalar method identical to the corresponding array attribute.\n",
      "  var  --  Scalar method identical to the corresponding array attribute.\n",
      "  view  --  Scalar method identical to the corresponding array attribute.\n",
      "----------------------------------------------------------------------------\n",
      "\n",
      "     *** Repeat reference found in numpy.core *** \n",
      "\n",
      "     *** Repeat reference found in numpy.core.numerictypes *** \n",
      "\n",
      "     *** Repeat reference found in numpy.core.numeric *** \n",
      "\n",
      "     *** Repeat reference found in numpy.lib.twodim_base *** \n",
      "\n",
      "     *** Total of 5 references found. ***\n"
     ]
    }
   ],
   "source": [
    "np.info(\"int32\")"
   ]
  },
  {
   "cell_type": "code",
   "execution_count": 18,
   "metadata": {},
   "outputs": [
    {
     "name": "stdout",
     "output_type": "stream",
     "text": [
      "\u001b[1;31mDocstring:\u001b[0m\n",
      "array(object, dtype=None, *, copy=True, order='K', subok=False, ndmin=0,\n",
      "      like=None)\n",
      "\n",
      "Create an array.\n",
      "\n",
      "Parameters\n",
      "----------\n",
      "object : array_like\n",
      "    An array, any object exposing the array interface, an object whose\n",
      "    __array__ method returns an array, or any (nested) sequence.\n",
      "    If object is a scalar, a 0-dimensional array containing object is\n",
      "    returned.\n",
      "dtype : data-type, optional\n",
      "    The desired data-type for the array.  If not given, then the type will\n",
      "    be determined as the minimum type required to hold the objects in the\n",
      "    sequence.\n",
      "copy : bool, optional\n",
      "    If true (default), then the object is copied.  Otherwise, a copy will\n",
      "    only be made if __array__ returns a copy, if obj is a nested sequence,\n",
      "    or if a copy is needed to satisfy any of the other requirements\n",
      "    (`dtype`, `order`, etc.).\n",
      "order : {'K', 'A', 'C', 'F'}, optional\n",
      "    Specify the memory layout of the array. If object is not an array, the\n",
      "    newly created array will be in C order (row major) unless 'F' is\n",
      "    specified, in which case it will be in Fortran order (column major).\n",
      "    If object is an array the following holds.\n",
      "\n",
      "    ===== ========= ===================================================\n",
      "    order  no copy                     copy=True\n",
      "    ===== ========= ===================================================\n",
      "    'K'   unchanged F & C order preserved, otherwise most similar order\n",
      "    'A'   unchanged F order if input is F and not C, otherwise C order\n",
      "    'C'   C order   C order\n",
      "    'F'   F order   F order\n",
      "    ===== ========= ===================================================\n",
      "\n",
      "    When ``copy=False`` and a copy is made for other reasons, the result is\n",
      "    the same as if ``copy=True``, with some exceptions for 'A', see the\n",
      "    Notes section. The default order is 'K'.\n",
      "subok : bool, optional\n",
      "    If True, then sub-classes will be passed-through, otherwise\n",
      "    the returned array will be forced to be a base-class array (default).\n",
      "ndmin : int, optional\n",
      "    Specifies the minimum number of dimensions that the resulting\n",
      "    array should have.  Ones will be prepended to the shape as\n",
      "    needed to meet this requirement.\n",
      "like : array_like, optional\n",
      "    Reference object to allow the creation of arrays which are not\n",
      "    NumPy arrays. If an array-like passed in as ``like`` supports\n",
      "    the ``__array_function__`` protocol, the result will be defined\n",
      "    by it. In this case, it ensures the creation of an array object\n",
      "    compatible with that passed in via this argument.\n",
      "\n",
      "    .. versionadded:: 1.20.0\n",
      "\n",
      "Returns\n",
      "-------\n",
      "out : ndarray\n",
      "    An array object satisfying the specified requirements.\n",
      "\n",
      "See Also\n",
      "--------\n",
      "empty_like : Return an empty array with shape and type of input.\n",
      "ones_like : Return an array of ones with shape and type of input.\n",
      "zeros_like : Return an array of zeros with shape and type of input.\n",
      "full_like : Return a new array with shape of input filled with value.\n",
      "empty : Return a new uninitialized array.\n",
      "ones : Return a new array setting values to one.\n",
      "zeros : Return a new array setting values to zero.\n",
      "full : Return a new array of given shape filled with value.\n",
      "\n",
      "\n",
      "Notes\n",
      "-----\n",
      "When order is 'A' and `object` is an array in neither 'C' nor 'F' order,\n",
      "and a copy is forced by a change in dtype, then the order of the result is\n",
      "not necessarily 'C' as expected. This is likely a bug.\n",
      "\n",
      "Examples\n",
      "--------\n",
      ">>> np.array([1, 2, 3])\n",
      "array([1, 2, 3])\n",
      "\n",
      "Upcasting:\n",
      "\n",
      ">>> np.array([1, 2, 3.0])\n",
      "array([ 1.,  2.,  3.])\n",
      "\n",
      "More than one dimension:\n",
      "\n",
      ">>> np.array([[1, 2], [3, 4]])\n",
      "array([[1, 2],\n",
      "       [3, 4]])\n",
      "\n",
      "Minimum dimensions 2:\n",
      "\n",
      ">>> np.array([1, 2, 3], ndmin=2)\n",
      "array([[1, 2, 3]])\n",
      "\n",
      "Type provided:\n",
      "\n",
      ">>> np.array([1, 2, 3], dtype=complex)\n",
      "array([ 1.+0.j,  2.+0.j,  3.+0.j])\n",
      "\n",
      "Data-type consisting of more than one element:\n",
      "\n",
      ">>> x = np.array([(1,2),(3,4)],dtype=[('a','<i4'),('b','<i4')])\n",
      ">>> x['a']\n",
      "array([1, 3])\n",
      "\n",
      "Creating an array from sub-classes:\n",
      "\n",
      ">>> np.array(np.mat('1 2; 3 4'))\n",
      "array([[1, 2],\n",
      "       [3, 4]])\n",
      "\n",
      ">>> np.array(np.mat('1 2; 3 4'), subok=True)\n",
      "matrix([[1, 2],\n",
      "        [3, 4]])\n",
      "\u001b[1;31mType:\u001b[0m      builtin_function_or_method"
     ]
    }
   ],
   "source": [
    "np.array?"
   ]
  },
  {
   "cell_type": "code",
   "execution_count": 8,
   "metadata": {},
   "outputs": [],
   "source": [
    "v_1 = np.array([1.72, 58, 28])  # ветор строка\n",
    "v_2 = np.array([1.75, 62, 35])"
   ]
  },
  {
   "cell_type": "code",
   "execution_count": 9,
   "metadata": {},
   "outputs": [
    {
     "data": {
      "text/plain": [
       "1"
      ]
     },
     "execution_count": 9,
     "metadata": {},
     "output_type": "execute_result"
    }
   ],
   "source": [
    "v_1.shape  # row col\n",
    "v_2.ndim  # n мерность"
   ]
  },
  {
   "cell_type": "code",
   "execution_count": 10,
   "metadata": {},
   "outputs": [],
   "source": [
    "dot_product = np.dot(v_1, v_2)  # перемножение векторов"
   ]
  },
  {
   "cell_type": "code",
   "execution_count": 12,
   "metadata": {},
   "outputs": [],
   "source": [
    "v_1_norma = np.linalg.norm(v_1)  # норма вектора\n",
    "v_2_norma = np.linalg.norm(v_2)  # норма вектора\n",
    "cosinus = dot_product / (v_1_norma * v_2_norma)"
   ]
  },
  {
   "cell_type": "code",
   "execution_count": 13,
   "metadata": {},
   "outputs": [
    {
     "data": {
      "text/plain": [
       "71.21841405142352"
      ]
     },
     "execution_count": 13,
     "metadata": {},
     "output_type": "execute_result"
    }
   ],
   "source": [
    "v_2_norma"
   ]
  },
  {
   "cell_type": "code",
   "execution_count": 92,
   "metadata": {},
   "outputs": [],
   "source": [
    "angel_degrees = np.arccos(cosinus) * 360 / 2 / np.pi"
   ]
  },
  {
   "cell_type": "code",
   "execution_count": 93,
   "metadata": {},
   "outputs": [
    {
     "data": {
      "text/plain": [
       "3.676908146677378"
      ]
     },
     "execution_count": 93,
     "metadata": {},
     "output_type": "execute_result"
    }
   ],
   "source": [
    "# угол чрезвычайно мал, а значит векторы очень близки друг к другу.\n",
    "angel_degrees\n",
    "\n",
    "# используем при построении рекомендательных систем для сопутствующих товаров в интернет-магазине, например."
   ]
  },
  {
   "cell_type": "code",
   "execution_count": null,
   "metadata": {},
   "outputs": [],
   "source": []
  }
 ],
 "metadata": {
  "kernelspec": {
   "display_name": "cond_venv",
   "language": "python",
   "name": "python3"
  },
  "language_info": {
   "codemirror_mode": {
    "name": "ipython",
    "version": 3
   },
   "file_extension": ".py",
   "mimetype": "text/x-python",
   "name": "python",
   "nbconvert_exporter": "python",
   "pygments_lexer": "ipython3",
   "version": "3.11.5"
  }
 },
 "nbformat": 4,
 "nbformat_minor": 2
}
