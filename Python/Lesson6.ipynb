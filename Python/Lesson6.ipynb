{
 "cells": [
  {
   "cell_type": "code",
   "execution_count": 30,
   "metadata": {},
   "outputs": [],
   "source": [
    "def summa(a: int, b: int) -> int: return a + b\n",
    "\n",
    "def geting(a: int, b: int) -> None:\n",
    "    \"\"\"\n",
    "    вызывает функцию сумма - замыкание, коллбеки и декораторы \n",
    "    \"\"\"\n",
    "    summa(a, b) # return None по дефолту, не явно пишется, если не прописать return\n",
    "geting(1, 4)"
   ]
  },
  {
   "cell_type": "code",
   "execution_count": 31,
   "metadata": {},
   "outputs": [
    {
     "data": {
      "text/plain": [
       "'\\n    вызывает функцию сумма - замыкание, коллбеки и декораторы \\n    '"
      ]
     },
     "execution_count": 31,
     "metadata": {},
     "output_type": "execute_result"
    }
   ],
   "source": [
    "geting.__doc__"
   ]
  },
  {
   "cell_type": "code",
   "execution_count": 32,
   "metadata": {},
   "outputs": [
    {
     "data": {
      "text/plain": [
       "'geting'"
      ]
     },
     "execution_count": 32,
     "metadata": {},
     "output_type": "execute_result"
    }
   ],
   "source": [
    "geting.__name__"
   ]
  },
  {
   "cell_type": "code",
   "execution_count": 39,
   "metadata": {},
   "outputs": [
    {
     "data": {
      "text/plain": [
       "('a', 'b')"
      ]
     },
     "execution_count": 39,
     "metadata": {},
     "output_type": "execute_result"
    }
   ],
   "source": [
    "geting.__code__.co_varnames"
   ]
  },
  {
   "cell_type": "code",
   "execution_count": 22,
   "metadata": {},
   "outputs": [
    {
     "name": "stdout",
     "output_type": "stream",
     "text": [
      "\u001b[1;31mSignature:\u001b[0m \u001b[0mgeting\u001b[0m\u001b[1;33m(\u001b[0m\u001b[0ma\u001b[0m\u001b[1;33m:\u001b[0m \u001b[0mint\u001b[0m\u001b[1;33m,\u001b[0m \u001b[0mb\u001b[0m\u001b[1;33m:\u001b[0m \u001b[0mint\u001b[0m\u001b[1;33m)\u001b[0m \u001b[1;33m->\u001b[0m \u001b[1;32mNone\u001b[0m\u001b[1;33m\u001b[0m\u001b[1;33m\u001b[0m\u001b[0m\n",
      "\u001b[1;31mFile:\u001b[0m      c:\\users\\pc\\appdata\\local\\temp\\ipykernel_15004\\840657873.py\n",
      "\u001b[1;31mType:\u001b[0m      function"
     ]
    }
   ],
   "source": [
    "# dir(geting)\n",
    "geting? # интроспеция - сигнатура функции\n"
   ]
  },
  {
   "cell_type": "code",
   "execution_count": null,
   "metadata": {},
   "outputs": [],
   "source": [
    "# callback - функция, которая передается в другую функцию в качестве аргумента и затем вызывается"
   ]
  },
  {
   "cell_type": "code",
   "execution_count": 81,
   "metadata": {},
   "outputs": [
    {
     "name": "stdout",
     "output_type": "stream",
     "text": [
      "start server...\n",
      "1 2\n",
      "{'test': 2, 'test2': 4}\n",
      "Hellow word\n"
     ]
    }
   ],
   "source": [
    "def function_callback():\n",
    "    \"\"\"\n",
    "    callback\n",
    "    \"\"\"\n",
    "    print(\"Hellow word\")\n",
    "\n",
    "\n",
    "def main(\n",
    "    *arg, callback\n",
    "):  # фун-ция принимающая в качетсве аргумента другую функцию, называется функцией высшего порядка\n",
    "    print(\"start server...\")\n",
    "    print(*arg)\n",
    "    print(dict_1)\n",
    "    callback()\n",
    "\n",
    "\n",
    "main(1,2, callback=function_callback)  # param = val ключевые аргументы"
   ]
  },
  {
   "cell_type": "code",
   "execution_count": 117,
   "metadata": {},
   "outputs": [
    {
     "data": {
      "text/plain": [
       "((1, 2, 3, 34, 4), {'k': 3, 'k2': 4})"
      ]
     },
     "execution_count": 117,
     "metadata": {},
     "output_type": "execute_result"
    }
   ],
   "source": [
    "def func(a,b, /, *, param = [], **kwargs):\n",
    "    return a,b, param\n",
    "    \n",
    "dict_1 = {\"a\": 2, \"b\": 4}\n",
    "# dict_2 = dict_1[:] # создании копии, поверхностная копия \n",
    "\n",
    "# func(**dict_1)  \n",
    "number = 1  \n",
    "func(*dict_1, param = number)    \n",
    "\n",
    "\n",
    "def print_(*args, **kwargs):\n",
    "    return args, kwargs\n",
    "print_(1,2,3,34,4, k = 3, k2 = 4)"
   ]
  },
  {
   "cell_type": "code",
   "execution_count": 124,
   "metadata": {},
   "outputs": [
    {
     "data": {
      "text/plain": [
       "('-0b11', 2)"
      ]
     },
     "execution_count": 124,
     "metadata": {},
     "output_type": "execute_result"
    }
   ],
   "source": [
    "# (built-in) — область системных имен\n",
    "\n",
    "\n",
    "# global — область модуля\n",
    "def outer():\n",
    "    # enclosed — область функции-обёртки\n",
    "    def inner():\n",
    "        # local — область внутри функции\n",
    "        ...\n",
    "\n",
    "\n",
    "# 1) скрытие ф-ции в глобальной область видимости\n",
    "# 2) вывести лишний код в функцую обертку\n",
    "# 3) реализовать замыкания"
   ]
  }
 ],
 "metadata": {
  "kernelspec": {
   "display_name": "cond_venv",
   "language": "python",
   "name": "python3"
  },
  "language_info": {
   "codemirror_mode": {
    "name": "ipython",
    "version": 3
   },
   "file_extension": ".py",
   "mimetype": "text/x-python",
   "name": "python",
   "nbconvert_exporter": "python",
   "pygments_lexer": "ipython3",
   "version": "3.11.6"
  }
 },
 "nbformat": 4,
 "nbformat_minor": 2
}
