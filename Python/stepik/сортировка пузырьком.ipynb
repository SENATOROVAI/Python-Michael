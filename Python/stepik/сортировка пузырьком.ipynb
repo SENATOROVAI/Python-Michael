{
 "cells": [
  {
   "cell_type": "code",
   "execution_count": null,
   "metadata": {},
   "outputs": [],
   "source": [
    "# https://stepik.org/lesson/296963/step/6?unit=278691\n",
    "n = int(input())\n",
    "a = list(map(int, input().split()))\n",
    "c = 0\n",
    "for j in range(n-1):\n",
    "    for i in range(n-1):\n",
    "        if a[i]> a[i+1]:\n",
    "            c += 1\n",
    "            a[i],a[i + 1] = a[i + 1], a[i]\n",
    "print(*a)\n",
    "print(c)"
   ]
  }
 ],
 "metadata": {
  "language_info": {
   "name": "python"
  }
 },
 "nbformat": 4,
 "nbformat_minor": 2
}
