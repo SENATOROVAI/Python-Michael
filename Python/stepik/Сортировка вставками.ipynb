{
 "cells": [
  {
   "cell_type": "code",
   "execution_count": null,
   "metadata": {},
   "outputs": [],
   "source": [
    "# https://stepik.org/lesson/296963/step/8?unit=278691\n",
    "n = int(input())\n",
    "a = list(map(int, input().split()))\n",
    "for i in range(1, n):\n",
    "    for j in range(i, 0, -1):\n",
    "        if a[j] < a[j - 1]:\n",
    "            a[j], a[j - 1] = a[j - 1], a[j]\n",
    "        else:\n",
    "            break\n",
    "print(*a)"
   ]
  }
 ],
 "metadata": {
  "language_info": {
   "name": "python"
  }
 },
 "nbformat": 4,
 "nbformat_minor": 2
}
