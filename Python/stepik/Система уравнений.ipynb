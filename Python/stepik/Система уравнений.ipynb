{
 "cells": [
  {
   "cell_type": "code",
   "execution_count": null,
   "metadata": {},
   "outputs": [],
   "source": [
    "# https://stepik.org/lesson/296963/step/7?unit=278691\n",
    "n, m = map(int, input().split())\n",
    "count = 0\n",
    "a = 0\n",
    "while a**2 <= n:\n",
    "    b = n - a**2\n",
    "    if b >= 0 and a + b**2 == m:\n",
    "        count += 1\n",
    "    a += 1\n",
    "print(count)"
   ]
  }
 ],
 "metadata": {
  "language_info": {
   "name": "python"
  }
 },
 "nbformat": 4,
 "nbformat_minor": 2
}
